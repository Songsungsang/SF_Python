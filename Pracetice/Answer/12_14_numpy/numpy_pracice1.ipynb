{
 "cells": [
  {
   "cell_type": "code",
   "execution_count": 2,
   "metadata": {},
   "outputs": [],
   "source": [
    "import numpy as np"
   ]
  },
  {
   "cell_type": "code",
   "execution_count": 11,
   "metadata": {},
   "outputs": [
    {
     "name": "stdout",
     "output_type": "stream",
     "text": [
      "[0. 0. 0. 0. 0. 0. 0. 0. 0. 0.]\n",
      "[0. 0. 0. 0. 1. 0. 0. 0. 0. 0.]\n"
     ]
    }
   ],
   "source": [
    "ndarr = np.zeros(10) # 0들로 채워진 새로운 array\n",
    "print(ndarr)\n",
    "ndarr[4] = 1 #리스트 처럼 위치 찾아서\n",
    "print(ndarr)"
   ]
  },
  {
   "cell_type": "code",
   "execution_count": 12,
   "metadata": {},
   "outputs": [
    {
     "name": "stdout",
     "output_type": "stream",
     "text": [
      "[10 11 12 13 14 15 16 17 18 19 20 21 22 23 24 25 26 27 28 29 30]\n"
     ]
    }
   ],
   "source": [
    "ndarr = np.arange(10,31) # 10 부터 30 까지의 숫자들로 이루어진\n",
    "print(ndarr)"
   ]
  },
  {
   "cell_type": "code",
   "execution_count": 5,
   "metadata": {},
   "outputs": [],
   "source": [
    "rng = np.random.default_rng() # () 값이 없으면 무조건 랜덤, 안에 값이 있으면 일종의 순서가 있는 시드 생성"
   ]
  },
  {
   "cell_type": "code",
   "execution_count": 6,
   "metadata": {},
   "outputs": [
    {
     "name": "stdout",
     "output_type": "stream",
     "text": [
      "[[43  0]\n",
      " [68 66]]\n",
      "[[93 78]\n",
      " [95 57]]\n",
      "[[0.99048766 0.05334481 0.91488462 0.966147  ]\n",
      " [0.74932609 0.64500597 0.91103641 0.3720525 ]]\n"
     ]
    }
   ],
   "source": [
    "ndarr = np.random.randint(0, 100, size=(2,2)) # 사이즈 (2,2)의 0부터 99까지로 이루어진\n",
    "an4_2 = rng.integers(0,100, (2,2))\n",
    "print(an4_2)\n",
    "print(ndarr)\n",
    "ndarr = np.random.rand(2, 4) # 사이즈 (2,4) 의 0부터 1사이\n",
    "print(ndarr)"
   ]
  }
 ],
 "metadata": {
  "kernelspec": {
   "display_name": "base",
   "language": "python",
   "name": "python3"
  },
  "language_info": {
   "codemirror_mode": {
    "name": "ipython",
    "version": 3
   },
   "file_extension": ".py",
   "mimetype": "text/x-python",
   "name": "python",
   "nbconvert_exporter": "python",
   "pygments_lexer": "ipython3",
   "version": "3.12.7"
  }
 },
 "nbformat": 4,
 "nbformat_minor": 2
}
