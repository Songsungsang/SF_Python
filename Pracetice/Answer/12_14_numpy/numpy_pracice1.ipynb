{
 "cells": [
  {
   "cell_type": "code",
   "execution_count": 5,
   "metadata": {},
   "outputs": [],
   "source": [
    "import numpy as np"
   ]
  },
  {
   "cell_type": "code",
   "execution_count": 11,
   "metadata": {},
   "outputs": [
    {
     "name": "stdout",
     "output_type": "stream",
     "text": [
      "[0. 0. 0. 0. 0. 0. 0. 0. 0. 0.]\n",
      "[0. 0. 0. 0. 1. 0. 0. 0. 0. 0.]\n"
     ]
    }
   ],
   "source": [
    "ndarr = np.zeros(10) # 0들로 채워진 새로운 array\n",
    "print(ndarr)\n",
    "ndarr[4] = 1 #리스트 처럼 위치 찾아서\n",
    "print(ndarr)"
   ]
  },
  {
   "cell_type": "code",
   "execution_count": 12,
   "metadata": {},
   "outputs": [
    {
     "name": "stdout",
     "output_type": "stream",
     "text": [
      "[10 11 12 13 14 15 16 17 18 19 20 21 22 23 24 25 26 27 28 29 30]\n"
     ]
    }
   ],
   "source": [
    "ndarr = np.arange(10,31) # 10 부터 30 까지의 숫자들로 이루어진\n",
    "print(ndarr)"
   ]
  },
  {
   "cell_type": "code",
   "execution_count": 17,
   "metadata": {},
   "outputs": [
    {
     "name": "stdout",
     "output_type": "stream",
     "text": [
      "[[54 54]\n",
      " [74 52]]\n",
      "[[0.60554547 0.11810741 0.77698857 0.17485102]\n",
      " [0.20678556 0.91913066 0.69281602 0.55405088]]\n"
     ]
    }
   ],
   "source": [
    "ndarr = np.random.randint(0, 100, size=(2,2)) # 사이즈 (2,2)의 0부터 99까지로 이루어진\n",
    "print(ndarr)\n",
    "ndarr = np.random.rand(2, 4) # 사이즈 (2,4) 의 0부터 1사이\n",
    "print(ndarr)"
   ]
  }
 ],
 "metadata": {
  "kernelspec": {
   "display_name": "base",
   "language": "python",
   "name": "python3"
  },
  "language_info": {
   "codemirror_mode": {
    "name": "ipython",
    "version": 3
   },
   "file_extension": ".py",
   "mimetype": "text/x-python",
   "name": "python",
   "nbconvert_exporter": "python",
   "pygments_lexer": "ipython3",
   "version": "3.12.7"
  }
 },
 "nbformat": 4,
 "nbformat_minor": 2
}
