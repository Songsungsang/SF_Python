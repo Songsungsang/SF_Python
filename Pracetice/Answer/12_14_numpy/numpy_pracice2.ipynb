{
 "cells": [
  {
   "cell_type": "code",
   "execution_count": 2,
   "metadata": {},
   "outputs": [],
   "source": [
    "import numpy as np"
   ]
  },
  {
   "cell_type": "code",
   "execution_count": 27,
   "metadata": {},
   "outputs": [
    {
     "name": "stdout",
     "output_type": "stream",
     "text": [
      "[[35 36 37 38]\n",
      " [39 40 41 42]\n",
      " [43 44 45 46]\n",
      " [47 48 49 50]\n",
      " [51 52 53 54]\n",
      " [55 56 57 58]\n",
      " [59 60 61 62]\n",
      " [63 64 65 66]\n",
      " [67 68 69 70]\n",
      " [71 72 73 74]]\n"
     ]
    }
   ],
   "source": [
    "ndarr = np.arange(35, 75)\n",
    "ndarr = ndarr.reshape(10,4) # ndarr.reshape는 결과물을 출력하는 거지 ndarr자체를 바꾸진 않는다\n",
    "#ndarr.shape = (10,4)\n",
    "print(ndarr)"
   ]
  },
  {
   "cell_type": "code",
   "execution_count": 9,
   "metadata": {},
   "outputs": [
    {
     "data": {
      "text/plain": [
       "array([[71, 72, 73, 74],\n",
       "       [67, 68, 69, 70],\n",
       "       [63, 64, 65, 66],\n",
       "       [59, 60, 61, 62],\n",
       "       [55, 56, 57, 58],\n",
       "       [51, 52, 53, 54],\n",
       "       [47, 48, 49, 50],\n",
       "       [43, 44, 45, 46],\n",
       "       [39, 40, 41, 42],\n",
       "       [35, 36, 37, 38]])"
      ]
     },
     "execution_count": 9,
     "metadata": {},
     "output_type": "execute_result"
    }
   ],
   "source": [
    "print(ndarr[::-1]) # 맨 뒤에서부터 행을 통째로 리버스로"
   ]
  },
  {
   "cell_type": "code",
   "execution_count": 35,
   "metadata": {},
   "outputs": [
    {
     "name": "stdout",
     "output_type": "stream",
     "text": [
      "[[41 42]\n",
      " [45 46]\n",
      " [49 50]\n",
      " [53 54]\n",
      " [57 58]\n",
      " [61 62]\n",
      " [65 66]\n",
      " [69 70]]\n"
     ]
    }
   ],
   "source": [
    "ndarr8 = ndarr[1:9, 2:4] # 1번부터 8번 행 까지, 열은 세번째와 네번째\n",
    "#ndarr8 = [1:-1, 2:] # 1번부터 끝에서 -1 행까지, 열은 2번부터 끝까지\n",
    "print(ndarr8)"
   ]
  },
  {
   "cell_type": "code",
   "execution_count": 54,
   "metadata": {},
   "outputs": [
    {
     "name": "stdout",
     "output_type": "stream",
     "text": [
      "[38 42 46 50 54 58 62 66 70 74]\n",
      "[[38 42 46 50 54]\n",
      " [58 62 66 70 74]]\n"
     ]
    }
   ],
   "source": [
    "ndarr9 = ndarr[::, -1]\n",
    "print(ndarr9)\n",
    "ndarr9 = ndarr9.reshape(2,5)\n",
    "print(ndarr9)"
   ]
  },
  {
   "cell_type": "code",
   "execution_count": 55,
   "metadata": {},
   "outputs": [
    {
     "name": "stdout",
     "output_type": "stream",
     "text": [
      "[[58 62 66 70 74]\n",
      " [38 42 46 50 54]]\n"
     ]
    }
   ],
   "source": [
    "ndarr10 = ndarr9[::-1]\n",
    "print(ndarr10)"
   ]
  },
  {
   "cell_type": "code",
   "execution_count": 41,
   "metadata": {},
   "outputs": [],
   "source": [
    "rng = np.random.default_rng(1)"
   ]
  },
  {
   "cell_type": "code",
   "execution_count": 45,
   "metadata": {},
   "outputs": [
    {
     "name": "stdout",
     "output_type": "stream",
     "text": [
      "[[22 26 15  6 22 32]\n",
      " [23 39 19 31 39 46]\n",
      " [22  2 36 27 44 23]\n",
      " [19  4 23 33 39 43]\n",
      " [11 30 41 14 18 42]]\n",
      "[22 26  6 22 32 46 22  2 36 44  4 30 14 18 42]\n"
     ]
    }
   ],
   "source": [
    "ndarr11 = rng.integers(1,51, (5,6))\n",
    "print(ndarr11)\n",
    "print(ndarr11[ndarr11 % 2 == 0])"
   ]
  },
  {
   "cell_type": "code",
   "execution_count": null,
   "metadata": {},
   "outputs": [],
   "source": []
  }
 ],
 "metadata": {
  "kernelspec": {
   "display_name": "base",
   "language": "python",
   "name": "python3"
  },
  "language_info": {
   "codemirror_mode": {
    "name": "ipython",
    "version": 3
   },
   "file_extension": ".py",
   "mimetype": "text/x-python",
   "name": "python",
   "nbconvert_exporter": "python",
   "pygments_lexer": "ipython3",
   "version": "3.12.7"
  }
 },
 "nbformat": 4,
 "nbformat_minor": 2
}
