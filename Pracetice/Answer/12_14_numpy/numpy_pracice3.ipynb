{
 "cells": [
  {
   "cell_type": "code",
   "execution_count": 1,
   "metadata": {},
   "outputs": [],
   "source": [
    "import numpy as np"
   ]
  },
  {
   "cell_type": "code",
   "execution_count": 7,
   "metadata": {},
   "outputs": [
    {
     "name": "stdout",
     "output_type": "stream",
     "text": [
      "중복 제거:  [  1   2   3   4   5   7   8   9  10  11  24 100]\n",
      "최대: 100, 최소: 1, 평균: 15.333333333333334\n",
      "합: 184\n",
      "중복 제거 없는 중간값: 5.0\n"
     ]
    }
   ],
   "source": [
    "arr = np.array([1, 1, 2, 3, 4, 5, 5, 5, 5, 7, 8, 9, 10, 11, 24 ,100])\n",
    "\n",
    "arr1 = np.unique(arr)\n",
    "print(\"중복 제거: \", arr1)\n",
    "maximum = np.max(arr1)\n",
    "minimum = np.min(arr1)\n",
    "mean = np.mean(arr1)\n",
    "print(f\"최대: {maximum}, 최소: {minimum}, 평균: {mean}\")\n",
    "result = np.sum(arr1)\n",
    "print(f\"합: {result}\")\n",
    "\n",
    "median = np.median(arr) # median은 arr.median()으로 해결이 안됨\n",
    "print(f\"중복 제거 없는 중간값: {median}\")"
   ]
  },
  {
   "cell_type": "code",
   "execution_count": 19,
   "metadata": {},
   "outputs": [
    {
     "name": "stdout",
     "output_type": "stream",
     "text": [
      "[[  0   1   2   3   4]\n",
      " [-99   6 -99   8 -99]\n",
      " [-99  11 -99  13 -99]]\n",
      "[  0 -99 -99]\n",
      "1열의 최대 : 0, 최소: -99, 평균: -66.0\n",
      "[-99   6 -99   8 -99]\n",
      "2행의 합: -283\n",
      "[11 10  9  8  7  6  5  4  3  2  1  0]\n",
      "내림차순:  [100  24  11  10   9   8   7   5   4   3   2   1]\n"
     ]
    }
   ],
   "source": [
    "x = np.arange(15, dtype=np.int64).reshape(3, 5)\n",
    "x[1:, ::2] = -99\n",
    "print(x)\n",
    "\n",
    "col1 = x[:, 0] # 0부터 시작하므로 1번은 0\n",
    "print(col1)\n",
    "col1_max = np.max(col1)\n",
    "col1_min = np.min(col1)\n",
    "col1_mean = np.mean(col1)\n",
    "print(f\"1열의 최대 : {col1_max}, 최소: {col1_min}, 평균: {col1_mean}\")\n",
    "#print(np.max(x, axis=0)[0]) # 요렇게도 가능\n",
    "\n",
    "row2 = x[1] # 마찬가지로 2번 1\n",
    "print(row2)\n",
    "row2_sum = np.sum(row2)\n",
    "print(f\"2행의 합: {row2_sum}\")\n",
    "\n",
    "arr1_arg = np.argsort(arr1)\n",
    "arr1_arg = arr1_arg[::-1] # 내림차순을 위해 뒤집기\n",
    "print(arr1_arg)\n",
    "arr1_sort = arr1[arr1_arg]\n",
    "print(\"내림차순: \", arr1_sort)"
   ]
  }
 ],
 "metadata": {
  "kernelspec": {
   "display_name": "base",
   "language": "python",
   "name": "python3"
  },
  "language_info": {
   "codemirror_mode": {
    "name": "ipython",
    "version": 3
   },
   "file_extension": ".py",
   "mimetype": "text/x-python",
   "name": "python",
   "nbconvert_exporter": "python",
   "pygments_lexer": "ipython3",
   "version": "3.12.7"
  }
 },
 "nbformat": 4,
 "nbformat_minor": 2
}
