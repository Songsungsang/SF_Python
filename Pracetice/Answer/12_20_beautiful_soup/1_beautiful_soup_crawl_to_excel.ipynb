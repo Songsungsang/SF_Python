{
 "cells": [
  {
   "cell_type": "code",
   "execution_count": 1,
   "metadata": {},
   "outputs": [],
   "source": [
    "import requests\n",
    "from bs4 import BeautifulSoup\n",
    "import openpyxl # 파이썬에서 엑셀 다루기 위한 라이브러리\n",
    "from openpyxl import Workbook"
   ]
  },
  {
   "cell_type": "code",
   "execution_count": 2,
   "metadata": {},
   "outputs": [],
   "source": [
    "response = requests.get(\"https://finance.naver.com/marketindex/\") # 이 페이지로 보내는 리퀘스트 결과 받기\n",
    "html = response.text # 리퀘스트를 텍스트로 받음\n",
    "soup = BeautifulSoup(html, 'html.parser')"
   ]
  },
  {
   "cell_type": "code",
   "execution_count": null,
   "metadata": {},
   "outputs": [
    {
     "name": "stdout",
     "output_type": "stream",
     "text": [
      "아이유 “진물 터지고 살 죽어”… 스키터증후군 뭐길래? https://www.chosun.com/national/people/2024/12/20/JY7B4YTHMZEWLGVDBU5XY4SBOQ/?utm_source=naver&utm_medium=referral&utm_campaign=naver-news\n",
      "\"아이유, CIA에 내가 신고\"…욕설한 미국인 유튜버, 왜 https://www.hankyung.com/article/2024121963037\n",
      "'아이유가 곡 표절' 가짜 고발에…3천만원 배상판결 '철퇴' https://www.yna.co.kr/view/AKR20241218057700004?input=1195m\n",
      "\"내가 아이유 CIA 신고했다, X 돼봐라\"…정체 밝힌 美 유튜버 https://www.newsis.com/view/NISX20241218_0003001964\n"
     ]
    }
   ],
   "source": [
    "#사진의 === 선은 그냥 10개마다 나누는 기준인듯\n",
    "# news = soup.select('.news_tit') #이런식으로 클래스 이름이 뉴스 제목인 모든 요소를 긁어서 href와 title을 출력하는 방식도 있음\n",
    "\n",
    "# for i in news:\n",
    "#     title = i['title']\n",
    "#     link = i['href']\n",
    "#     print(title, link)"
   ]
  },
  {
   "cell_type": "code",
   "execution_count": 10,
   "metadata": {},
   "outputs": [
    {
     "name": "stdout",
     "output_type": "stream",
     "text": [
      "미국 USD 1,452.00\n",
      "일본 JPY(100엔) 926.32\n",
      "유럽연합 EUR 1,508.99\n",
      "중국 CNY 198.75\n"
     ]
    }
   ],
   "source": [
    "exchange_div = soup.select_one('.market1') # 환율시장 선택\n",
    "#print(exchange_div)\n",
    "currency_h3 = exchange_div.select('.h_lst') # span으로 가기 전에 있는 상위 h3를 모으기\n",
    "currency_names = [] # 리스트 미리 만들기\n",
    "for i in currency_h3: # 각 h3마다\n",
    "    name = i.select_one('.blind')\n",
    "    currency_names.append(name.text) # blind 클래스의 텍스트 넣기\n",
    "\n",
    "values = exchange_div.select('.value') # value 값들 모두 가져옴\n",
    "i = 0\n",
    "currency_values = [] # 환율 값들을 보관할 리스트\n",
    "for value in values:\n",
    "    print(currency_names[i],value.text) # 각 값마다 이름과 값 출력\n",
    "    currency_values.append(value.text) # 이때 환율 값을 저장\n",
    "    i += 1"
   ]
  },
  {
   "cell_type": "code",
   "execution_count": 11,
   "metadata": {},
   "outputs": [
    {
     "name": "stdout",
     "output_type": "stream",
     "text": [
      "['1,452.00', '926.32', '1,508.99', '198.75']\n",
      "[['통화', '환율'], ['미국 USD', '1,452.00'], ['일본 JPY(100엔)', '926.32'], ['유럽연합 EUR', '1,508.99'], ['중국 CNY', '198.75']]\n"
     ]
    }
   ],
   "source": [
    "from openpyxl import Workbook\n",
    "\n",
    "wb = Workbook()\n",
    "\n",
    "ws = wb.active # 액티브 한걸로 선택\n",
    "ws.title = 'Data' # 제목\n",
    "\n",
    "data = [['통화', '환율']]\n",
    "print(currency_values)\n",
    "for j in range(i): # 이전에 n번 반복된 i를 활용\n",
    "    data.append([currency_names[j], currency_values[j]]) # 데이터에 이름과 값 저장\n",
    "\n",
    "print(data)\n",
    "\n",
    "for name,value in data: #각 데이터마다\n",
    "    ws.append([name,value]) # 하나씩 한줄씩 붙임\n",
    "\n",
    "wb.save('./currency_data.xlsx')"
   ]
  }
 ],
 "metadata": {
  "kernelspec": {
   "display_name": "base",
   "language": "python",
   "name": "python3"
  },
  "language_info": {
   "codemirror_mode": {
    "name": "ipython",
    "version": 3
   },
   "file_extension": ".py",
   "mimetype": "text/x-python",
   "name": "python",
   "nbconvert_exporter": "python",
   "pygments_lexer": "ipython3",
   "version": "3.12.7"
  }
 },
 "nbformat": 4,
 "nbformat_minor": 2
}
