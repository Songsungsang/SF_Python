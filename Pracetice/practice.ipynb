{
 "cells": [
  {
   "cell_type": "code",
   "execution_count": 1,
   "metadata": {},
   "outputs": [
    {
     "name": "stdout",
     "output_type": "stream",
     "text": [
      "Hello world!\n"
     ]
    }
   ],
   "source": [
    "print(\"Hello world!\")"
   ]
  },
  {
   "cell_type": "code",
   "execution_count": null,
   "metadata": {},
   "outputs": [],
   "source": [
    "import numpy as np # numpy import"
   ]
  },
  {
   "cell_type": "code",
   "execution_count": 4,
   "metadata": {},
   "outputs": [
    {
     "data": {
      "text/plain": [
       "1"
      ]
     },
     "execution_count": 4,
     "metadata": {},
     "output_type": "execute_result"
    }
   ],
   "source": [
    "a = 1\n",
    "a"
   ]
  },
  {
   "cell_type": "code",
   "execution_count": 5,
   "metadata": {},
   "outputs": [
    {
     "data": {
      "text/plain": [
       "[1, 2, 3, 4, 5]"
      ]
     },
     "execution_count": 5,
     "metadata": {},
     "output_type": "execute_result"
    }
   ],
   "source": [
    "b = [1, 2, 3, 4, 5]\n",
    "b"
   ]
  },
  {
   "cell_type": "code",
   "execution_count": 6,
   "metadata": {},
   "outputs": [
    {
     "name": "stdout",
     "output_type": "stream",
     "text": [
      "[1, 2, 3, 4, 5, 1, 2, 3, 4, 5]\n"
     ]
    }
   ],
   "source": [
    "print(b*2)"
   ]
  },
  {
   "cell_type": "code",
   "execution_count": 9,
   "metadata": {},
   "outputs": [
    {
     "name": "stdout",
     "output_type": "stream",
     "text": [
      "['sky', 'earth', 'moon', 'flower', 'tree', 'apple', 'grape', 'garlic', 'onion', 'potato']\n",
      "문제 1\n",
      "apple\n",
      "통과!\n",
      "문제 2\n",
      "tree\n",
      "통과!\n",
      "문제 3\n",
      "garlic\n",
      "통과!\n",
      "문제 4\n",
      "tree\n",
      "오타! 다시 도전\n",
      "문제 4\n",
      "flower\n",
      "통과!\n",
      "문제 5\n",
      "sky\n",
      "오타! 다시 도전\n",
      "문제 5\n",
      "tree\n",
      "통과!\n",
      "문제 6\n",
      "flower\n",
      "통과!\n",
      "문제 7\n",
      "moon\n",
      "통과!\n",
      "문제 8\n",
      "potato\n",
      "통과!\n",
      "문제 9\n",
      "earth\n",
      "통과!\n",
      "문제 10\n",
      "potato\n",
      "오타! 다시 도전\n",
      "문제 10\n",
      "sky\n",
      "오타! 다시 도전\n",
      "문제 10\n",
      "apple\n",
      "오타! 다시 도전\n",
      "문제 10\n",
      "potato\n",
      "오타! 다시 도전\n",
      "문제 10\n",
      "onion\n",
      "통과!\n",
      "타자 시간:  56.38\n"
     ]
    }
   ],
   "source": [
    "import os, time, random\n",
    "if os.path.exists(\"./Answer/12_12/word.txt\"): #특정 파일이 현재 경로에 있다면\n",
    "    with open(\"./Answer/12_12/word.txt\", \"r\") as f:\n",
    "        word = f.read().split() #한칸 띄어쓰기 기준으로 쪼개기\n",
    "        # data = f.readlines()\n",
    "        print(word) # word는 지역변수가 아니라 글로벌이어서 밑에서 사용 가능\n",
    "else:  #없다면 리스트를 하나 여기서 만듬\n",
    "    word = ['sky', 'earth', 'moon', 'flower', 'tree', 'apple',\n",
    "            'grape', 'garlic', 'onion', 'potato']\n",
    "\n",
    "n = 1 # 1번 문제부터\n",
    "\n",
    "input(\"타자게임이 준비되었을 경우 아무키 입력\")\n",
    "start = time.time() # 타이머 시작\n",
    "\n",
    "while n < 11 :\n",
    "    print(\"문제\", n)\n",
    "    question = random.choice(word) #word 중에 랜덤으로 추첨\n",
    "    print(question)\n",
    "    user = input()\n",
    "    if question == user : # 문제와 답이 일치한다면\n",
    "        print(\"통과!\")\n",
    "        n += 1\n",
    "    else :\n",
    "        print(\"오타! 다시 도전\")\n",
    "\n",
    "end = time.time() #종료 시간 확인\n",
    "et = end - start\n",
    "print(f\"타자 시간: {et: .2f}\") #et를 소수점 2자리까지 표시"
   ]
  },
  {
   "cell_type": "code",
   "execution_count": 5,
   "metadata": {},
   "outputs": [
    {
     "name": "stdout",
     "output_type": "stream",
     "text": [
      "['3' '1' '2' 'a']\n",
      "[3, 1, 2, 'a']\n",
      "<class 'numpy.ndarray'>\n",
      "<class 'list'>\n"
     ]
    }
   ],
   "source": [
    "import numpy as np\n",
    "x = np.array([3,1,2,'a']) # a와 숫자가 같이 있다면 한가지 형태만 인정. 그래서 모두 string\n",
    "print(x)\n",
    "print([3,1,2,'a'])\n",
    "print(type(x))\n",
    "print(type([3,1,2]))"
   ]
  },
  {
   "cell_type": "code",
   "execution_count": 10,
   "metadata": {},
   "outputs": [
    {
     "name": "stdout",
     "output_type": "stream",
     "text": [
      "1 3\n",
      "1 2\n"
     ]
    }
   ],
   "source": [
    "c = [[1], [1,2]]\n",
    "d = np.array([[1,3],[1,2]]) #np는 array의 차원, 갯수가 같아야 한다\n",
    "\n",
    "for x,y in d:\n",
    "    print(x,y)"
   ]
  },
  {
   "cell_type": "code",
   "execution_count": 11,
   "metadata": {},
   "outputs": [
    {
     "name": "stdout",
     "output_type": "stream",
     "text": [
      "[3. 7. 9.]\n",
      "[-1. -3. -3.]\n",
      "[ 2. 10. 18.]\n",
      "[0.5 0.4 0.5]\n"
     ]
    }
   ],
   "source": [
    "x = np.array([1.0, 2.0, 3.0])\n",
    "y = np.array([2.0, 5.0, 6.0])\n",
    "\n",
    "print(x+y) # 행렬 연산\n",
    "print(x-y) # 연산하려면 같은 차원 유지\n",
    "print(x*y)\n",
    "print(x/y)"
   ]
  },
  {
   "cell_type": "code",
   "execution_count": 21,
   "metadata": {},
   "outputs": [
    {
     "name": "stdout",
     "output_type": "stream",
     "text": [
      "\n"
     ]
    },
    {
     "data": {
      "text/plain": [
       "(2, 2)"
      ]
     },
     "execution_count": 21,
     "metadata": {},
     "output_type": "execute_result"
    }
   ],
   "source": [
    "#print(x.shape) #차원 형태\n",
    "#print(x.dtype) #data type\n",
    "#print(d.shape)\n",
    "#print(y/2.0)\n",
    "d.ndim\n",
    "d.shape"
   ]
  },
  {
   "cell_type": "code",
   "execution_count": 22,
   "metadata": {},
   "outputs": [
    {
     "name": "stdout",
     "output_type": "stream",
     "text": [
      "2\n",
      "(3, 2)\n"
     ]
    }
   ],
   "source": [
    "a = np.array([[1,2], [3,4], [5,6]])\n",
    "print(a.ndim)\n",
    "print(a.shape)"
   ]
  },
  {
   "cell_type": "code",
   "execution_count": 23,
   "metadata": {},
   "outputs": [
    {
     "name": "stdout",
     "output_type": "stream",
     "text": [
      "3\n",
      "(3, 2, 1)\n"
     ]
    }
   ],
   "source": [
    "a = np.array([[[1],[2]], [[3], [4]], [[5], [6]]])\n",
    "print(a.ndim) # 3차원\n",
    "print(a.shape) # 안에 3개 들어있고 그 안에 2개, 그 안에 1개"
   ]
  },
  {
   "cell_type": "code",
   "execution_count": 24,
   "metadata": {},
   "outputs": [
    {
     "name": "stdout",
     "output_type": "stream",
     "text": [
      "3\n",
      "(3, 2, 2)\n"
     ]
    }
   ],
   "source": [
    "a = np.array([[[1,2],[2,2]], [[3,2], [4,2]], [[5,2], [6,2]]]) # 색깔 3개 = 3차원!\n",
    "print(a.ndim) # 3차원\n",
    "print(a.shape) # 안에 3개 들어있고 그 안에 2개, 그 안에 2개"
   ]
  },
  {
   "cell_type": "code",
   "execution_count": 25,
   "metadata": {},
   "outputs": [
    {
     "data": {
      "text/plain": [
       "8"
      ]
     },
     "execution_count": 25,
     "metadata": {},
     "output_type": "execute_result"
    }
   ],
   "source": [
    "np.dot(4, 2)\n"
   ]
  },
  {
   "cell_type": "code",
   "execution_count": 26,
   "metadata": {},
   "outputs": [
    {
     "data": {
      "text/plain": [
       "16"
      ]
     },
     "execution_count": 26,
     "metadata": {},
     "output_type": "execute_result"
    }
   ],
   "source": [
    "ndar1 = np.array([1,2])\n",
    "ndar2 = np.array([4,6])\n",
    "np.dot(ndar1, ndar2)"
   ]
  },
  {
   "cell_type": "code",
   "execution_count": 27,
   "metadata": {},
   "outputs": [
    {
     "data": {
      "text/plain": [
       "array([[ 7, 10],\n",
       "       [15, 22]])"
      ]
     },
     "execution_count": 27,
     "metadata": {},
     "output_type": "execute_result"
    }
   ],
   "source": [
    "ndar1 = np.array([[1,2], [3,4]])\n",
    "ndar2 = np.array([[1,2], [3,4]])\n",
    "np.dot(ndar1, ndar2)"
   ]
  },
  {
   "cell_type": "code",
   "execution_count": 30,
   "metadata": {},
   "outputs": [
    {
     "data": {
      "text/plain": [
       "array([[ 7, 10],\n",
       "       [15, 22]])"
      ]
     },
     "execution_count": 30,
     "metadata": {},
     "output_type": "execute_result"
    }
   ],
   "source": [
    "ndar1 = np.array([[1,2], [3,4]])\n",
    "ndar2 = np.array([[1,2], [3,4]])\n",
    "np.matmul(ndar1, ndar2)"
   ]
  },
  {
   "cell_type": "code",
   "execution_count": 35,
   "metadata": {},
   "outputs": [
    {
     "name": "stdout",
     "output_type": "stream",
     "text": [
      "[1 2 3 4]\n",
      "[1 2 3]\n",
      "[[[1]\n",
      "  [2]\n",
      "  [3]]]\n"
     ]
    }
   ],
   "source": [
    "ndar1 = np.array([[1,2], [3,4]])\n",
    "print(ndar1.flatten()) # 1차원으로 평탄화 시킴\n",
    "\n",
    "ndar2 = np.array([[[1],[2],[3]]])\n",
    "print(ndar2.flatten()) # 1차원으로 평탄화 시킴\n",
    "print(ndar2) #ndar2는 바뀌지 않음. flatten은 바뀐거를 리턴하는거지 ndar2를 바꾸진 않음"
   ]
  },
  {
   "cell_type": "code",
   "execution_count": 38,
   "metadata": {},
   "outputs": [
    {
     "name": "stdout",
     "output_type": "stream",
     "text": [
      "[[1 2 2]\n",
      " [3 3 4]]\n",
      "[[1 2 2 3 3 4]]\n"
     ]
    }
   ],
   "source": [
    "ndarr = np.array([[1,2], [2,3], [3,4]])\n",
    "print(ndarr.reshape(2,3)) # (3,2)를 (2,3) 로 바꾸기\n",
    "#ndarr.reshape(2, 4) # 3*2 = 6개인데 8개 짜리로는 바꿀 수 없다\n",
    "print(ndarr.reshape(1,6)) # 6개니까 (1,6)도 가능"
   ]
  },
  {
   "cell_type": "code",
   "execution_count": 44,
   "metadata": {},
   "outputs": [
    {
     "data": {
      "text/plain": [
       "array([0.80012837, 0.70539318, 0.40179481, 0.83881108, 0.9431511 ])"
      ]
     },
     "execution_count": 44,
     "metadata": {},
     "output_type": "execute_result"
    }
   ],
   "source": [
    "np.random.randint(1, 5, size=(2,4)) #(2,4) 사이즈의 1부터 4까지 랜덤 숫자\n",
    "np.random.rand(5) # (1,5) 사이즈의 0~1 사이의 랜덤 숫자"
   ]
  },
  {
   "cell_type": "code",
   "execution_count": 47,
   "metadata": {},
   "outputs": [
    {
     "name": "stdout",
     "output_type": "stream",
     "text": [
      "0.6450490207514177\n",
      "[[4 5 4 3]\n",
      " [2 5 8 4]]\n"
     ]
    }
   ],
   "source": [
    "rng =np.random.default_rng()\n",
    "print(rng.random()) # 최신 동향은 rng를 활용하는 형태로\n",
    "print(rng.integers(0, 10, (2,4))) # 0 부터 9까지 (2,4) 사이즈로"
   ]
  },
  {
   "cell_type": "code",
   "execution_count": 50,
   "metadata": {},
   "outputs": [
    {
     "name": "stdout",
     "output_type": "stream",
     "text": [
      "[[ True False]\n",
      " [ True False]\n",
      " [False False]]\n"
     ]
    }
   ],
   "source": [
    "ndarr = np.array([[6,3], [5,2], [4,1]])\n",
    "print(ndarr > 4)"
   ]
  },
  {
   "cell_type": "code",
   "execution_count": 52,
   "metadata": {},
   "outputs": [
    {
     "name": "stdout",
     "output_type": "stream",
     "text": [
      "[6 5]\n",
      "[[6 3]\n",
      " [5 2]\n",
      " [4 1]]\n"
     ]
    }
   ],
   "source": [
    "print(ndarr[ndarr > 4]) # 이렇게 해서 안에서 4보다 큰걸, True 값만 나오는걸 뽑아내기\n",
    "print(ndarr) # ndarr 값을 바꾸는건 아님"
   ]
  }
 ],
 "metadata": {
  "kernelspec": {
   "display_name": "base",
   "language": "python",
   "name": "python3"
  },
  "language_info": {
   "codemirror_mode": {
    "name": "ipython",
    "version": 3
   },
   "file_extension": ".py",
   "mimetype": "text/x-python",
   "name": "python",
   "nbconvert_exporter": "python",
   "pygments_lexer": "ipython3",
   "version": "3.12.7"
  }
 },
 "nbformat": 4,
 "nbformat_minor": 2
}
