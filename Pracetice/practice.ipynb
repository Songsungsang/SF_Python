{
 "cells": [
  {
   "cell_type": "code",
   "execution_count": 1,
   "metadata": {},
   "outputs": [
    {
     "name": "stdout",
     "output_type": "stream",
     "text": [
      "Hello world!\n"
     ]
    }
   ],
   "source": [
    "print(\"Hello world!\")"
   ]
  },
  {
   "cell_type": "code",
   "execution_count": 2,
   "metadata": {},
   "outputs": [],
   "source": [
    "import numpy as np # numpy import\n",
    "import pandas as pd # pandas import"
   ]
  },
  {
   "cell_type": "code",
   "execution_count": 4,
   "metadata": {},
   "outputs": [
    {
     "data": {
      "text/plain": [
       "1"
      ]
     },
     "execution_count": 4,
     "metadata": {},
     "output_type": "execute_result"
    }
   ],
   "source": [
    "a = 1\n",
    "a"
   ]
  },
  {
   "cell_type": "code",
   "execution_count": 5,
   "metadata": {},
   "outputs": [
    {
     "data": {
      "text/plain": [
       "[1, 2, 3, 4, 5]"
      ]
     },
     "execution_count": 5,
     "metadata": {},
     "output_type": "execute_result"
    }
   ],
   "source": [
    "b = [1, 2, 3, 4, 5]\n",
    "b"
   ]
  },
  {
   "cell_type": "code",
   "execution_count": 6,
   "metadata": {},
   "outputs": [
    {
     "name": "stdout",
     "output_type": "stream",
     "text": [
      "[1, 2, 3, 4, 5, 1, 2, 3, 4, 5]\n"
     ]
    }
   ],
   "source": [
    "print(b*2)"
   ]
  },
  {
   "cell_type": "code",
   "execution_count": 9,
   "metadata": {},
   "outputs": [
    {
     "name": "stdout",
     "output_type": "stream",
     "text": [
      "['sky', 'earth', 'moon', 'flower', 'tree', 'apple', 'grape', 'garlic', 'onion', 'potato']\n",
      "문제 1\n",
      "apple\n",
      "통과!\n",
      "문제 2\n",
      "tree\n",
      "통과!\n",
      "문제 3\n",
      "garlic\n",
      "통과!\n",
      "문제 4\n",
      "tree\n",
      "오타! 다시 도전\n",
      "문제 4\n",
      "flower\n",
      "통과!\n",
      "문제 5\n",
      "sky\n",
      "오타! 다시 도전\n",
      "문제 5\n",
      "tree\n",
      "통과!\n",
      "문제 6\n",
      "flower\n",
      "통과!\n",
      "문제 7\n",
      "moon\n",
      "통과!\n",
      "문제 8\n",
      "potato\n",
      "통과!\n",
      "문제 9\n",
      "earth\n",
      "통과!\n",
      "문제 10\n",
      "potato\n",
      "오타! 다시 도전\n",
      "문제 10\n",
      "sky\n",
      "오타! 다시 도전\n",
      "문제 10\n",
      "apple\n",
      "오타! 다시 도전\n",
      "문제 10\n",
      "potato\n",
      "오타! 다시 도전\n",
      "문제 10\n",
      "onion\n",
      "통과!\n",
      "타자 시간:  56.38\n"
     ]
    }
   ],
   "source": [
    "import os, time, random\n",
    "if os.path.exists(\"./Answer/12_12/word.txt\"): #특정 파일이 현재 경로에 있다면\n",
    "    with open(\"./Answer/12_12/word.txt\", \"r\") as f:\n",
    "        word = f.read().split() #한칸 띄어쓰기 기준으로 쪼개기\n",
    "        # data = f.readlines()\n",
    "        print(word) # word는 지역변수가 아니라 글로벌이어서 밑에서 사용 가능\n",
    "else:  #없다면 리스트를 하나 여기서 만듬\n",
    "    word = ['sky', 'earth', 'moon', 'flower', 'tree', 'apple',\n",
    "            'grape', 'garlic', 'onion', 'potato']\n",
    "\n",
    "n = 1 # 1번 문제부터\n",
    "\n",
    "input(\"타자게임이 준비되었을 경우 아무키 입력\")\n",
    "start = time.time() # 타이머 시작\n",
    "\n",
    "while n < 11 :\n",
    "    print(\"문제\", n)\n",
    "    question = random.choice(word) #word 중에 랜덤으로 추첨\n",
    "    print(question)\n",
    "    user = input()\n",
    "    if question == user : # 문제와 답이 일치한다면\n",
    "        print(\"통과!\")\n",
    "        n += 1\n",
    "    else :\n",
    "        print(\"오타! 다시 도전\")\n",
    "\n",
    "end = time.time() #종료 시간 확인\n",
    "et = end - start\n",
    "print(f\"타자 시간: {et: .2f}\") #et를 소수점 2자리까지 표시"
   ]
  },
  {
   "cell_type": "code",
   "execution_count": 5,
   "metadata": {},
   "outputs": [
    {
     "name": "stdout",
     "output_type": "stream",
     "text": [
      "['3' '1' '2' 'a']\n",
      "[3, 1, 2, 'a']\n",
      "<class 'numpy.ndarray'>\n",
      "<class 'list'>\n"
     ]
    }
   ],
   "source": [
    "import numpy as np\n",
    "x = np.array([3,1,2,'a']) # a와 숫자가 같이 있다면 한가지 형태만 인정. 그래서 모두 string\n",
    "print(x)\n",
    "print([3,1,2,'a'])\n",
    "print(type(x))\n",
    "print(type([3,1,2]))"
   ]
  },
  {
   "cell_type": "code",
   "execution_count": 10,
   "metadata": {},
   "outputs": [
    {
     "name": "stdout",
     "output_type": "stream",
     "text": [
      "1 3\n",
      "1 2\n"
     ]
    }
   ],
   "source": [
    "c = [[1], [1,2]]\n",
    "d = np.array([[1,3],[1,2]]) #np는 array의 차원, 갯수가 같아야 한다\n",
    "\n",
    "for x,y in d:\n",
    "    print(x,y)"
   ]
  },
  {
   "cell_type": "code",
   "execution_count": 11,
   "metadata": {},
   "outputs": [
    {
     "name": "stdout",
     "output_type": "stream",
     "text": [
      "[3. 7. 9.]\n",
      "[-1. -3. -3.]\n",
      "[ 2. 10. 18.]\n",
      "[0.5 0.4 0.5]\n"
     ]
    }
   ],
   "source": [
    "x = np.array([1.0, 2.0, 3.0])\n",
    "y = np.array([2.0, 5.0, 6.0])\n",
    "\n",
    "print(x+y) # 행렬 연산\n",
    "print(x-y) # 연산하려면 같은 차원 유지\n",
    "print(x*y)\n",
    "print(x/y)"
   ]
  },
  {
   "cell_type": "code",
   "execution_count": 21,
   "metadata": {},
   "outputs": [
    {
     "name": "stdout",
     "output_type": "stream",
     "text": [
      "\n"
     ]
    },
    {
     "data": {
      "text/plain": [
       "(2, 2)"
      ]
     },
     "execution_count": 21,
     "metadata": {},
     "output_type": "execute_result"
    }
   ],
   "source": [
    "#print(x.shape) #차원 형태\n",
    "#print(x.dtype) #data type\n",
    "#print(d.shape)\n",
    "#print(y/2.0)\n",
    "d.ndim\n",
    "d.shape"
   ]
  },
  {
   "cell_type": "code",
   "execution_count": 22,
   "metadata": {},
   "outputs": [
    {
     "name": "stdout",
     "output_type": "stream",
     "text": [
      "2\n",
      "(3, 2)\n"
     ]
    }
   ],
   "source": [
    "a = np.array([[1,2], [3,4], [5,6]])\n",
    "print(a.ndim)\n",
    "print(a.shape)"
   ]
  },
  {
   "cell_type": "code",
   "execution_count": 23,
   "metadata": {},
   "outputs": [
    {
     "name": "stdout",
     "output_type": "stream",
     "text": [
      "3\n",
      "(3, 2, 1)\n"
     ]
    }
   ],
   "source": [
    "a = np.array([[[1],[2]], [[3], [4]], [[5], [6]]])\n",
    "print(a.ndim) # 3차원\n",
    "print(a.shape) # 안에 3개 들어있고 그 안에 2개, 그 안에 1개"
   ]
  },
  {
   "cell_type": "code",
   "execution_count": 24,
   "metadata": {},
   "outputs": [
    {
     "name": "stdout",
     "output_type": "stream",
     "text": [
      "3\n",
      "(3, 2, 2)\n"
     ]
    }
   ],
   "source": [
    "a = np.array([[[1,2],[2,2]], [[3,2], [4,2]], [[5,2], [6,2]]]) # 색깔 3개 = 3차원!\n",
    "print(a.ndim) # 3차원\n",
    "print(a.shape) # 안에 3개 들어있고 그 안에 2개, 그 안에 2개"
   ]
  },
  {
   "cell_type": "code",
   "execution_count": 25,
   "metadata": {},
   "outputs": [
    {
     "data": {
      "text/plain": [
       "8"
      ]
     },
     "execution_count": 25,
     "metadata": {},
     "output_type": "execute_result"
    }
   ],
   "source": [
    "np.dot(4, 2)\n"
   ]
  },
  {
   "cell_type": "code",
   "execution_count": 26,
   "metadata": {},
   "outputs": [
    {
     "data": {
      "text/plain": [
       "16"
      ]
     },
     "execution_count": 26,
     "metadata": {},
     "output_type": "execute_result"
    }
   ],
   "source": [
    "ndar1 = np.array([1,2])\n",
    "ndar2 = np.array([4,6])\n",
    "np.dot(ndar1, ndar2)"
   ]
  },
  {
   "cell_type": "code",
   "execution_count": 27,
   "metadata": {},
   "outputs": [
    {
     "data": {
      "text/plain": [
       "array([[ 7, 10],\n",
       "       [15, 22]])"
      ]
     },
     "execution_count": 27,
     "metadata": {},
     "output_type": "execute_result"
    }
   ],
   "source": [
    "ndar1 = np.array([[1,2], [3,4]])\n",
    "ndar2 = np.array([[1,2], [3,4]])\n",
    "np.dot(ndar1, ndar2)"
   ]
  },
  {
   "cell_type": "code",
   "execution_count": 30,
   "metadata": {},
   "outputs": [
    {
     "data": {
      "text/plain": [
       "array([[ 7, 10],\n",
       "       [15, 22]])"
      ]
     },
     "execution_count": 30,
     "metadata": {},
     "output_type": "execute_result"
    }
   ],
   "source": [
    "ndar1 = np.array([[1,2], [3,4]])\n",
    "ndar2 = np.array([[1,2], [3,4]])\n",
    "np.matmul(ndar1, ndar2)"
   ]
  },
  {
   "cell_type": "code",
   "execution_count": 35,
   "metadata": {},
   "outputs": [
    {
     "name": "stdout",
     "output_type": "stream",
     "text": [
      "[1 2 3 4]\n",
      "[1 2 3]\n",
      "[[[1]\n",
      "  [2]\n",
      "  [3]]]\n"
     ]
    }
   ],
   "source": [
    "ndar1 = np.array([[1,2], [3,4]])\n",
    "print(ndar1.flatten()) # 1차원으로 평탄화 시킴\n",
    "\n",
    "ndar2 = np.array([[[1],[2],[3]]])\n",
    "print(ndar2.flatten()) # 1차원으로 평탄화 시킴\n",
    "print(ndar2) #ndar2는 바뀌지 않음. flatten은 바뀐거를 리턴하는거지 ndar2를 바꾸진 않음"
   ]
  },
  {
   "cell_type": "code",
   "execution_count": 38,
   "metadata": {},
   "outputs": [
    {
     "name": "stdout",
     "output_type": "stream",
     "text": [
      "[[1 2 2]\n",
      " [3 3 4]]\n",
      "[[1 2 2 3 3 4]]\n"
     ]
    }
   ],
   "source": [
    "ndarr = np.array([[1,2], [2,3], [3,4]])\n",
    "print(ndarr.reshape(2,3)) # (3,2)를 (2,3) 로 바꾸기\n",
    "#ndarr.reshape(2, 4) # 3*2 = 6개인데 8개 짜리로는 바꿀 수 없다\n",
    "print(ndarr.reshape(1,6)) # 6개니까 (1,6)도 가능"
   ]
  },
  {
   "cell_type": "code",
   "execution_count": 44,
   "metadata": {},
   "outputs": [
    {
     "data": {
      "text/plain": [
       "array([0.80012837, 0.70539318, 0.40179481, 0.83881108, 0.9431511 ])"
      ]
     },
     "execution_count": 44,
     "metadata": {},
     "output_type": "execute_result"
    }
   ],
   "source": [
    "np.random.randint(1, 5, size=(2,4)) #(2,4) 사이즈의 1부터 4까지 랜덤 숫자\n",
    "np.random.rand(5) # (1,5) 사이즈의 0~1 사이의 랜덤 숫자"
   ]
  },
  {
   "cell_type": "code",
   "execution_count": 47,
   "metadata": {},
   "outputs": [
    {
     "name": "stdout",
     "output_type": "stream",
     "text": [
      "0.6450490207514177\n",
      "[[4 5 4 3]\n",
      " [2 5 8 4]]\n"
     ]
    }
   ],
   "source": [
    "rng =np.random.default_rng()\n",
    "print(rng.random()) # 최신 동향은 rng를 활용하는 형태로\n",
    "print(rng.integers(0, 10, (2,4))) # 0 부터 9까지 (2,4) 사이즈로"
   ]
  },
  {
   "cell_type": "code",
   "execution_count": 50,
   "metadata": {},
   "outputs": [
    {
     "name": "stdout",
     "output_type": "stream",
     "text": [
      "[[ True False]\n",
      " [ True False]\n",
      " [False False]]\n"
     ]
    }
   ],
   "source": [
    "ndarr = np.array([[6,3], [5,2], [4,1]])\n",
    "print(ndarr > 4)"
   ]
  },
  {
   "cell_type": "code",
   "execution_count": 52,
   "metadata": {},
   "outputs": [
    {
     "name": "stdout",
     "output_type": "stream",
     "text": [
      "[6 5]\n",
      "[[6 3]\n",
      " [5 2]\n",
      " [4 1]]\n"
     ]
    }
   ],
   "source": [
    "print(ndarr[ndarr > 4]) # 이렇게 해서 안에서 4보다 큰걸, True 값만 나오는걸 뽑아내기\n",
    "print(ndarr) # ndarr 값을 바꾸는건 아님"
   ]
  },
  {
   "cell_type": "code",
   "execution_count": 2,
   "metadata": {},
   "outputs": [
    {
     "name": "stdout",
     "output_type": "stream",
     "text": [
      "[[[1 2]\n",
      "  [3 4]]]\n",
      "(1, 2, 2)\n"
     ]
    }
   ],
   "source": [
    "#12.14\n",
    "a = np.array([[1,2], [3,4]])\n",
    "expanded = np.expand_dims(a, 0)\n",
    "print(expanded)\n",
    "print(expanded.shape)"
   ]
  },
  {
   "cell_type": "code",
   "execution_count": 3,
   "metadata": {},
   "outputs": [
    {
     "name": "stdout",
     "output_type": "stream",
     "text": [
      "[[[1 2]]\n",
      "\n",
      " [[3 4]]]\n",
      "(2, 1, 2)\n"
     ]
    }
   ],
   "source": [
    "expanded = np.expand_dims(a, 1)\n",
    "print(expanded)\n",
    "print(expanded.shape)"
   ]
  },
  {
   "cell_type": "code",
   "execution_count": null,
   "metadata": {},
   "outputs": [],
   "source": [
    "[[[1 2]]\n",
    "\n",
    " [[3 4]]]"
   ]
  },
  {
   "cell_type": "code",
   "execution_count": 4,
   "metadata": {},
   "outputs": [
    {
     "name": "stdout",
     "output_type": "stream",
     "text": [
      "[[[1]\n",
      "  [2]]\n",
      "\n",
      " [[3]\n",
      "  [4]]]\n",
      "(2, 2, 1)\n"
     ]
    }
   ],
   "source": [
    "expanded = np.expand_dims(a, 2)\n",
    "print(expanded)\n",
    "print(expanded.shape)"
   ]
  },
  {
   "cell_type": "code",
   "execution_count": 9,
   "metadata": {},
   "outputs": [
    {
     "name": "stdout",
     "output_type": "stream",
     "text": [
      "[[[[1. 1. 1.]]\n",
      "\n",
      "  [[1. 1. 1.]]]]\n",
      "(1, 2, 1, 3)\n"
     ]
    }
   ],
   "source": [
    "np_ones = np.ones((1,2,1,3))\n",
    "print(np_ones)\n",
    "print(np_ones.shape)"
   ]
  },
  {
   "cell_type": "code",
   "execution_count": 6,
   "metadata": {},
   "outputs": [
    {
     "name": "stdout",
     "output_type": "stream",
     "text": [
      "[[1. 1. 1.]\n",
      " [1. 1. 1.]]\n",
      "(2, 3)\n"
     ]
    }
   ],
   "source": [
    "squeezed = np.squeeze(np_ones)\n",
    "print(squeezed)\n",
    "print(squeezed.shape)"
   ]
  },
  {
   "cell_type": "code",
   "execution_count": 7,
   "metadata": {},
   "outputs": [
    {
     "name": "stdout",
     "output_type": "stream",
     "text": [
      "[[[1. 1. 1.]]\n",
      "\n",
      " [[1. 1. 1.]]]\n",
      "(2, 1, 3)\n"
     ]
    }
   ],
   "source": [
    "squeezed = np.squeeze(np_ones, 0)\n",
    "print(squeezed)\n",
    "print(squeezed.shape)"
   ]
  },
  {
   "cell_type": "code",
   "execution_count": 8,
   "metadata": {},
   "outputs": [
    {
     "name": "stdout",
     "output_type": "stream",
     "text": [
      "[[[1. 1. 1.]\n",
      "  [1. 1. 1.]]]\n",
      "(1, 2, 3)\n"
     ]
    }
   ],
   "source": [
    "squeezed = np.squeeze(np_ones, 2)\n",
    "print(squeezed)\n",
    "print(squeezed.shape)"
   ]
  },
  {
   "cell_type": "code",
   "execution_count": 10,
   "metadata": {},
   "outputs": [
    {
     "name": "stdout",
     "output_type": "stream",
     "text": [
      "[1 2 3 4] [1 2 3 2] [0 1 3 6]\n"
     ]
    }
   ],
   "source": [
    "a = [1,2,2,3,3,3,4,4]\n",
    "unique_a, indexes, counts = np.unique(a, return_counts= True, return_index= True) #counts 보다 index가 먼저 출력됨\n",
    "print(unique_a, counts, indexes)"
   ]
  },
  {
   "cell_type": "code",
   "execution_count": 22,
   "metadata": {},
   "outputs": [
    {
     "name": "stdout",
     "output_type": "stream",
     "text": [
      "a [1 4 2 3]\n",
      "b [1 2 3 4]\n",
      "c [0 2 3 1]\n",
      "cc [1 2 3 4]\n",
      "a [1 4 2 3]\n",
      "None\n"
     ]
    },
    {
     "data": {
      "text/plain": [
       "array([[1, 4, 2, 3]])"
      ]
     },
     "execution_count": 22,
     "metadata": {},
     "output_type": "execute_result"
    }
   ],
   "source": [
    "a = np.array([1,4,2,3])\n",
    "b = np.sort(a) # a[np.argsort(a)]\n",
    "print(f\"a {a}\")\n",
    "print(f\"b {b}\")\n",
    "c = np.argsort(a) # [0,2,3,1] 1은 원래 0번쨰, 2는 원래 2번째, 3은 원래 3번째, 4는 원래 1번째\n",
    "print(f\"c {c}\")\n",
    "print(f\"cc {a[c]}\")\n",
    "print(f\"a {a}\")\n",
    "a[c.sort()]"
   ]
  },
  {
   "cell_type": "code",
   "execution_count": 23,
   "metadata": {},
   "outputs": [
    {
     "name": "stdout",
     "output_type": "stream",
     "text": [
      "2.5\n",
      "1.118033988749895\n",
      "1.25\n",
      "4\n",
      "1\n",
      "10\n",
      "24\n",
      "2.5\n"
     ]
    }
   ],
   "source": [
    "a = np.array([1,4,2,3])\n",
    "result = np.mean(a)\n",
    "print(result)\n",
    "result = np.std(a)\n",
    "print(\"mean \", result)\n",
    "result = np.var(a)\n",
    "print(\"분산 \",result)\n",
    "result = np.max(a)\n",
    "print(\"max\",result)\n",
    "result = np.min(a)\n",
    "print(\"min\",result)\n",
    "result = np.sum(a)\n",
    "print(\"sum\",result)\n",
    "result = np.prod(a)\n",
    "print(\"prod\",result)\n",
    "result = np.median(a)\n",
    "print(\"median\",result)"
   ]
  },
  {
   "cell_type": "code",
   "execution_count": 2,
   "metadata": {},
   "outputs": [],
   "source": [
    "#12.16\n",
    "import pandas as pd"
   ]
  },
  {
   "cell_type": "code",
   "execution_count": 3,
   "metadata": {},
   "outputs": [
    {
     "data": {
      "text/plain": [
       "2018    143\n",
       "2019    150\n",
       "2020    157\n",
       "2021    160\n",
       "dtype: int64"
      ]
     },
     "execution_count": 3,
     "metadata": {},
     "output_type": "execute_result"
    }
   ],
   "source": [
    "growth = pd.Series([143, 150, 157, 160], index=[\"2018\",\"2019\",\"2020\",\"2021\"]) # 판다스로 각 값마다 2018년과 같은 index가 부여된 array를 생성\n",
    "growth # 인덱스 지정이 없으면 다른 리스트 처럼 0,1,2,3 이런식으로 인덱스 지정"
   ]
  },
  {
   "cell_type": "code",
   "execution_count": 5,
   "metadata": {},
   "outputs": [
    {
     "data": {
      "text/html": [
       "<div>\n",
       "<style scoped>\n",
       "    .dataframe tbody tr th:only-of-type {\n",
       "        vertical-align: middle;\n",
       "    }\n",
       "\n",
       "    .dataframe tbody tr th {\n",
       "        vertical-align: top;\n",
       "    }\n",
       "\n",
       "    .dataframe thead th {\n",
       "        text-align: right;\n",
       "    }\n",
       "</style>\n",
       "<table border=\"1\" class=\"dataframe\">\n",
       "  <thead>\n",
       "    <tr style=\"text-align: right;\">\n",
       "      <th></th>\n",
       "      <th>영희</th>\n",
       "      <th>철수</th>\n",
       "    </tr>\n",
       "  </thead>\n",
       "  <tbody>\n",
       "    <tr>\n",
       "      <th>2018</th>\n",
       "      <td>143</td>\n",
       "      <td>165</td>\n",
       "    </tr>\n",
       "    <tr>\n",
       "      <th>2019</th>\n",
       "      <td>150</td>\n",
       "      <td>172</td>\n",
       "    </tr>\n",
       "    <tr>\n",
       "      <th>2020</th>\n",
       "      <td>157</td>\n",
       "      <td>1175</td>\n",
       "    </tr>\n",
       "    <tr>\n",
       "      <th>2021</th>\n",
       "      <td>160</td>\n",
       "      <td>180</td>\n",
       "    </tr>\n",
       "  </tbody>\n",
       "</table>\n",
       "</div>"
      ],
      "text/plain": [
       "       영희    철수\n",
       "2018  143   165\n",
       "2019  150   172\n",
       "2020  157  1175\n",
       "2021  160   180"
      ]
     },
     "execution_count": 5,
     "metadata": {},
     "output_type": "execute_result"
    }
   ],
   "source": [
    "index=[\"2018\",\"2019\",\"2020\",\"2021\"]\n",
    "Yeounghee = pd.Series([143, 150, 157, 160], index=index) #데이터를 Series로 먼저 지정하고 넣는 방법\n",
    "Chelosu = pd.Series([165, 172, 1175, 180]   , index=index) \n",
    "\n",
    "growth = pd.DataFrame({\n",
    "    \"영희\" : Yeounghee,\n",
    "    \"철수\" : Chelosu\n",
    "})\n",
    "\n",
    "growth"
   ]
  },
  {
   "cell_type": "code",
   "execution_count": 6,
   "metadata": {},
   "outputs": [
    {
     "data": {
      "text/html": [
       "<div>\n",
       "<style scoped>\n",
       "    .dataframe tbody tr th:only-of-type {\n",
       "        vertical-align: middle;\n",
       "    }\n",
       "\n",
       "    .dataframe tbody tr th {\n",
       "        vertical-align: top;\n",
       "    }\n",
       "\n",
       "    .dataframe thead th {\n",
       "        text-align: right;\n",
       "    }\n",
       "</style>\n",
       "<table border=\"1\" class=\"dataframe\">\n",
       "  <thead>\n",
       "    <tr style=\"text-align: right;\">\n",
       "      <th></th>\n",
       "      <th>영희</th>\n",
       "      <th>철수</th>\n",
       "    </tr>\n",
       "  </thead>\n",
       "  <tbody>\n",
       "    <tr>\n",
       "      <th>2018</th>\n",
       "      <td>143</td>\n",
       "      <td>165</td>\n",
       "    </tr>\n",
       "    <tr>\n",
       "      <th>2019</th>\n",
       "      <td>150</td>\n",
       "      <td>172</td>\n",
       "    </tr>\n",
       "    <tr>\n",
       "      <th>2020</th>\n",
       "      <td>157</td>\n",
       "      <td>1175</td>\n",
       "    </tr>\n",
       "    <tr>\n",
       "      <th>2021</th>\n",
       "      <td>160</td>\n",
       "      <td>180</td>\n",
       "    </tr>\n",
       "  </tbody>\n",
       "</table>\n",
       "</div>"
      ],
      "text/plain": [
       "       영희    철수\n",
       "2018  143   165\n",
       "2019  150   172\n",
       "2020  157  1175\n",
       "2021  160   180"
      ]
     },
     "execution_count": 6,
     "metadata": {},
     "output_type": "execute_result"
    }
   ],
   "source": [
    "index=[\"2018\",\"2019\",\"2020\",\"2021\"]\n",
    "data = {\n",
    "    \"영희\" : [143, 150, 157, 160],\n",
    "    \"철수\" : [165, 172, 1175, 180]\n",
    "}\n",
    "\n",
    "growth = pd.DataFrame(data, index = index) # 데이터를 바로 넣는 방법\n",
    "growth"
   ]
  },
  {
   "cell_type": "code",
   "execution_count": 8,
   "metadata": {},
   "outputs": [
    {
     "data": {
      "text/html": [
       "<div>\n",
       "<style scoped>\n",
       "    .dataframe tbody tr th:only-of-type {\n",
       "        vertical-align: middle;\n",
       "    }\n",
       "\n",
       "    .dataframe tbody tr th {\n",
       "        vertical-align: top;\n",
       "    }\n",
       "\n",
       "    .dataframe thead th {\n",
       "        text-align: right;\n",
       "    }\n",
       "</style>\n",
       "<table border=\"1\" class=\"dataframe\">\n",
       "  <thead>\n",
       "    <tr style=\"text-align: right;\">\n",
       "      <th></th>\n",
       "      <th>영희</th>\n",
       "      <th>철수</th>\n",
       "    </tr>\n",
       "  </thead>\n",
       "  <tbody>\n",
       "    <tr>\n",
       "      <th>2018</th>\n",
       "      <td>143.0</td>\n",
       "      <td>165</td>\n",
       "    </tr>\n",
       "    <tr>\n",
       "      <th>2019</th>\n",
       "      <td>150.0</td>\n",
       "      <td>172</td>\n",
       "    </tr>\n",
       "    <tr>\n",
       "      <th>2020</th>\n",
       "      <td>157.0</td>\n",
       "      <td>1175</td>\n",
       "    </tr>\n",
       "    <tr>\n",
       "      <th>2021</th>\n",
       "      <td>160.0</td>\n",
       "      <td>180</td>\n",
       "    </tr>\n",
       "  </tbody>\n",
       "</table>\n",
       "</div>"
      ],
      "text/plain": [
       "         영희    철수\n",
       "2018  143.0   165\n",
       "2019  150.0   172\n",
       "2020  157.0  1175\n",
       "2021  160.0   180"
      ]
     },
     "execution_count": 8,
     "metadata": {},
     "output_type": "execute_result"
    }
   ],
   "source": [
    "growth.astype({\"영희\" : \"float\"}) #영희라는 column의 값을 float 타입으로 바꾸기"
   ]
  },
  {
   "cell_type": "code",
   "execution_count": 9,
   "metadata": {},
   "outputs": [
    {
     "name": "stdout",
     "output_type": "stream",
     "text": [
      "       영희    철수\n",
      "2018  143   165\n",
      "2019  150   172\n",
      "2020  157  1175\n",
      "2021  160   180\n"
     ]
    }
   ],
   "source": [
    "print(growth) # astype은 잠깐만 타입을 바꿔줌"
   ]
  },
  {
   "cell_type": "code",
   "execution_count": 13,
   "metadata": {},
   "outputs": [
    {
     "data": {
      "text/html": [
       "<div>\n",
       "<style scoped>\n",
       "    .dataframe tbody tr th:only-of-type {\n",
       "        vertical-align: middle;\n",
       "    }\n",
       "\n",
       "    .dataframe tbody tr th {\n",
       "        vertical-align: top;\n",
       "    }\n",
       "\n",
       "    .dataframe thead th {\n",
       "        text-align: right;\n",
       "    }\n",
       "</style>\n",
       "<table border=\"1\" class=\"dataframe\">\n",
       "  <thead>\n",
       "    <tr style=\"text-align: right;\">\n",
       "      <th></th>\n",
       "      <th>A</th>\n",
       "      <th>B</th>\n",
       "      <th>C</th>\n",
       "    </tr>\n",
       "  </thead>\n",
       "  <tbody>\n",
       "    <tr>\n",
       "      <th>0</th>\n",
       "      <td>30</td>\n",
       "      <td>21</td>\n",
       "      <td>9</td>\n",
       "    </tr>\n",
       "  </tbody>\n",
       "</table>\n",
       "</div>"
      ],
      "text/plain": [
       "    A   B  C\n",
       "0  30  21  9"
      ]
     },
     "execution_count": 13,
     "metadata": {},
     "output_type": "execute_result"
    }
   ],
   "source": [
    "pd.read_csv(\"./input/1.csv\") # 특정 경로의 csv 파일 읽어들이기"
   ]
  },
  {
   "cell_type": "code",
   "execution_count": 14,
   "metadata": {},
   "outputs": [
    {
     "data": {
      "text/html": [
       "<div>\n",
       "<style scoped>\n",
       "    .dataframe tbody tr th:only-of-type {\n",
       "        vertical-align: middle;\n",
       "    }\n",
       "\n",
       "    .dataframe tbody tr th {\n",
       "        vertical-align: top;\n",
       "    }\n",
       "\n",
       "    .dataframe thead th {\n",
       "        text-align: right;\n",
       "    }\n",
       "</style>\n",
       "<table border=\"1\" class=\"dataframe\">\n",
       "  <thead>\n",
       "    <tr style=\"text-align: right;\">\n",
       "      <th></th>\n",
       "      <th>A</th>\n",
       "      <th>B</th>\n",
       "      <th>C</th>\n",
       "    </tr>\n",
       "  </thead>\n",
       "  <tbody>\n",
       "    <tr>\n",
       "      <th>0</th>\n",
       "      <td>30</td>\n",
       "      <td>21</td>\n",
       "      <td>9</td>\n",
       "    </tr>\n",
       "    <tr>\n",
       "      <th>100</th>\n",
       "      <td>2</td>\n",
       "      <td>3</td>\n",
       "      <td>1</td>\n",
       "    </tr>\n",
       "  </tbody>\n",
       "</table>\n",
       "</div>"
      ],
      "text/plain": [
       "      A   B  C\n",
       "0    30  21  9\n",
       "100   2   3  1"
      ]
     },
     "execution_count": 14,
     "metadata": {},
     "output_type": "execute_result"
    }
   ],
   "source": [
    "pd.read_csv(\"./input/2.csv\", index_col=0) # 특정 column을 index 열로 지정함"
   ]
  },
  {
   "cell_type": "code",
   "execution_count": null,
   "metadata": {},
   "outputs": [],
   "source": [
    "animals = pd.DataFrame({'Cows': [12, 20], 'Goats': [22, 19]}, index=['Year 1', 'Year 2'])\n",
    "animals\n",
    "\n",
    "animals.to_csv(\"./output/cows_and_goats.csv\") # 이 경로에 animal의 내용이 담긴 csv 파일을 생성함"
   ]
  },
  {
   "cell_type": "code",
   "execution_count": 17,
   "metadata": {},
   "outputs": [
    {
     "data": {
      "text/plain": [
       "2018    143\n",
       "2019    150\n",
       "2020    157\n",
       "2021    160\n",
       "Name: 영희, dtype: int64"
      ]
     },
     "execution_count": 17,
     "metadata": {},
     "output_type": "execute_result"
    }
   ],
   "source": [
    "growth[\"영희\"]"
   ]
  },
  {
   "cell_type": "code",
   "execution_count": 18,
   "metadata": {},
   "outputs": [
    {
     "data": {
      "text/plain": [
       "2018    143\n",
       "2019    150\n",
       "2020    157\n",
       "2021    160\n",
       "Name: 영희, dtype: int64"
      ]
     },
     "execution_count": 18,
     "metadata": {},
     "output_type": "execute_result"
    }
   ],
   "source": [
    "growth.영희"
   ]
  },
  {
   "cell_type": "code",
   "execution_count": 19,
   "metadata": {},
   "outputs": [
    {
     "name": "stderr",
     "output_type": "stream",
     "text": [
      "C:\\Users\\USER\\AppData\\Local\\Temp\\ipykernel_11984\\2659709295.py:1: FutureWarning: Series.__getitem__ treating keys as positions is deprecated. In a future version, integer keys will always be treated as labels (consistent with DataFrame behavior). To access a value by position, use `ser.iloc[pos]`\n",
      "  growth[\"영희\"][0]\n"
     ]
    },
    {
     "data": {
      "text/plain": [
       "143"
      ]
     },
     "execution_count": 19,
     "metadata": {},
     "output_type": "execute_result"
    }
   ],
   "source": [
    "growth[\"영희\"][0]"
   ]
  },
  {
   "cell_type": "code",
   "execution_count": 20,
   "metadata": {},
   "outputs": [
    {
     "data": {
      "text/plain": [
       "영희    143\n",
       "철수    165\n",
       "Name: 2018, dtype: int64"
      ]
     },
     "execution_count": 20,
     "metadata": {},
     "output_type": "execute_result"
    }
   ],
   "source": [
    "growth.iloc[0] # 0번째 row 값들 반환"
   ]
  },
  {
   "cell_type": "code",
   "execution_count": 21,
   "metadata": {},
   "outputs": [
    {
     "data": {
      "text/plain": [
       "영희    150\n",
       "철수    172\n",
       "Name: 2019, dtype: int64"
      ]
     },
     "execution_count": 21,
     "metadata": {},
     "output_type": "execute_result"
    }
   ],
   "source": [
    "growth.iloc[1]"
   ]
  },
  {
   "cell_type": "code",
   "execution_count": 23,
   "metadata": {},
   "outputs": [
    {
     "data": {
      "text/html": [
       "<div>\n",
       "<style scoped>\n",
       "    .dataframe tbody tr th:only-of-type {\n",
       "        vertical-align: middle;\n",
       "    }\n",
       "\n",
       "    .dataframe tbody tr th {\n",
       "        vertical-align: top;\n",
       "    }\n",
       "\n",
       "    .dataframe thead th {\n",
       "        text-align: right;\n",
       "    }\n",
       "</style>\n",
       "<table border=\"1\" class=\"dataframe\">\n",
       "  <thead>\n",
       "    <tr style=\"text-align: right;\">\n",
       "      <th></th>\n",
       "      <th>영희</th>\n",
       "      <th>철수</th>\n",
       "    </tr>\n",
       "  </thead>\n",
       "  <tbody>\n",
       "    <tr>\n",
       "      <th>2018</th>\n",
       "      <td>143</td>\n",
       "      <td>165</td>\n",
       "    </tr>\n",
       "    <tr>\n",
       "      <th>2019</th>\n",
       "      <td>150</td>\n",
       "      <td>172</td>\n",
       "    </tr>\n",
       "  </tbody>\n",
       "</table>\n",
       "</div>"
      ],
      "text/plain": [
       "       영희   철수\n",
       "2018  143  165\n",
       "2019  150  172"
      ]
     },
     "execution_count": 23,
     "metadata": {},
     "output_type": "execute_result"
    }
   ],
   "source": [
    "growth.iloc[:2, :2] # 숫자들을 사용하여 위치 찾기 가능"
   ]
  },
  {
   "cell_type": "code",
   "execution_count": 24,
   "metadata": {},
   "outputs": [
    {
     "data": {
      "text/plain": [
       "157"
      ]
     },
     "execution_count": 24,
     "metadata": {},
     "output_type": "execute_result"
    }
   ],
   "source": [
    "growth.loc['2020', '영희'] # 특정 index값의 column값을 출력 가능"
   ]
  },
  {
   "cell_type": "code",
   "execution_count": 25,
   "metadata": {},
   "outputs": [
    {
     "data": {
      "text/plain": [
       "영희    160\n",
       "철수    180\n",
       "Name: 2021, dtype: int64"
      ]
     },
     "execution_count": 25,
     "metadata": {},
     "output_type": "execute_result"
    }
   ],
   "source": [
    "growth.loc[\"2021\"] # 숫자 대신에 index로 주어진 label 기반으로 값 찾기 가능"
   ]
  },
  {
   "cell_type": "code",
   "execution_count": 26,
   "metadata": {},
   "outputs": [
    {
     "data": {
      "text/plain": [
       "2018    143\n",
       "2019    150\n",
       "2020    157\n",
       "2021    160\n",
       "Name: 영희, dtype: int64"
      ]
     },
     "execution_count": 26,
     "metadata": {},
     "output_type": "execute_result"
    }
   ],
   "source": [
    "growth.loc[:, \"영희\"]"
   ]
  },
  {
   "cell_type": "code",
   "execution_count": 27,
   "metadata": {},
   "outputs": [
    {
     "data": {
      "text/html": [
       "<div>\n",
       "<style scoped>\n",
       "    .dataframe tbody tr th:only-of-type {\n",
       "        vertical-align: middle;\n",
       "    }\n",
       "\n",
       "    .dataframe tbody tr th {\n",
       "        vertical-align: top;\n",
       "    }\n",
       "\n",
       "    .dataframe thead th {\n",
       "        text-align: right;\n",
       "    }\n",
       "</style>\n",
       "<table border=\"1\" class=\"dataframe\">\n",
       "  <thead>\n",
       "    <tr style=\"text-align: right;\">\n",
       "      <th></th>\n",
       "      <th>영희</th>\n",
       "      <th>철수</th>\n",
       "    </tr>\n",
       "  </thead>\n",
       "  <tbody>\n",
       "    <tr>\n",
       "      <th>2018</th>\n",
       "      <td>143</td>\n",
       "      <td>165</td>\n",
       "    </tr>\n",
       "    <tr>\n",
       "      <th>2019</th>\n",
       "      <td>150</td>\n",
       "      <td>172</td>\n",
       "    </tr>\n",
       "    <tr>\n",
       "      <th>2020</th>\n",
       "      <td>157</td>\n",
       "      <td>1175</td>\n",
       "    </tr>\n",
       "    <tr>\n",
       "      <th>2021</th>\n",
       "      <td>160</td>\n",
       "      <td>180</td>\n",
       "    </tr>\n",
       "  </tbody>\n",
       "</table>\n",
       "</div>"
      ],
      "text/plain": [
       "       영희    철수\n",
       "2018  143   165\n",
       "2019  150   172\n",
       "2020  157  1175\n",
       "2021  160   180"
      ]
     },
     "execution_count": 27,
     "metadata": {},
     "output_type": "execute_result"
    }
   ],
   "source": [
    "growth.loc[:, [\"영희\",\"철수\"]]"
   ]
  },
  {
   "cell_type": "code",
   "execution_count": 28,
   "metadata": {},
   "outputs": [
    {
     "data": {
      "text/html": [
       "<div>\n",
       "<style scoped>\n",
       "    .dataframe tbody tr th:only-of-type {\n",
       "        vertical-align: middle;\n",
       "    }\n",
       "\n",
       "    .dataframe tbody tr th {\n",
       "        vertical-align: top;\n",
       "    }\n",
       "\n",
       "    .dataframe thead th {\n",
       "        text-align: right;\n",
       "    }\n",
       "</style>\n",
       "<table border=\"1\" class=\"dataframe\">\n",
       "  <thead>\n",
       "    <tr style=\"text-align: right;\">\n",
       "      <th></th>\n",
       "      <th>영희</th>\n",
       "      <th>철수</th>\n",
       "    </tr>\n",
       "  </thead>\n",
       "  <tbody>\n",
       "    <tr>\n",
       "      <th>2018</th>\n",
       "      <td>143</td>\n",
       "      <td>165</td>\n",
       "    </tr>\n",
       "    <tr>\n",
       "      <th>2020</th>\n",
       "      <td>157</td>\n",
       "      <td>1175</td>\n",
       "    </tr>\n",
       "  </tbody>\n",
       "</table>\n",
       "</div>"
      ],
      "text/plain": [
       "       영희    철수\n",
       "2018  143   165\n",
       "2020  157  1175"
      ]
     },
     "execution_count": 28,
     "metadata": {},
     "output_type": "execute_result"
    }
   ],
   "source": [
    "growth.loc[[\"2018\", \"2020\"], [\"영희\",\"철수\"]] # 건너 뛰기도 가능"
   ]
  },
  {
   "cell_type": "code",
   "execution_count": 32,
   "metadata": {},
   "outputs": [
    {
     "data": {
      "text/html": [
       "<div>\n",
       "<style scoped>\n",
       "    .dataframe tbody tr th:only-of-type {\n",
       "        vertical-align: middle;\n",
       "    }\n",
       "\n",
       "    .dataframe tbody tr th {\n",
       "        vertical-align: top;\n",
       "    }\n",
       "\n",
       "    .dataframe thead th {\n",
       "        text-align: right;\n",
       "    }\n",
       "</style>\n",
       "<table border=\"1\" class=\"dataframe\">\n",
       "  <thead>\n",
       "    <tr style=\"text-align: right;\">\n",
       "      <th></th>\n",
       "      <th>영희</th>\n",
       "      <th>철수</th>\n",
       "    </tr>\n",
       "  </thead>\n",
       "  <tbody>\n",
       "    <tr>\n",
       "      <th>2018</th>\n",
       "      <td>143</td>\n",
       "      <td>165</td>\n",
       "    </tr>\n",
       "    <tr>\n",
       "      <th>2019</th>\n",
       "      <td>150</td>\n",
       "      <td>172</td>\n",
       "    </tr>\n",
       "    <tr>\n",
       "      <th>2020</th>\n",
       "      <td>157</td>\n",
       "      <td>1175</td>\n",
       "    </tr>\n",
       "  </tbody>\n",
       "</table>\n",
       "</div>"
      ],
      "text/plain": [
       "       영희    철수\n",
       "2018  143   165\n",
       "2019  150   172\n",
       "2020  157  1175"
      ]
     },
     "execution_count": 32,
     "metadata": {},
     "output_type": "execute_result"
    }
   ],
   "source": [
    "growth.loc[\"2018\" : \"2020\", \"영희\" : \"철수\"] #이렇게 하면 2018에서 2020까지를. loc는 ~까지에서 뒤에 값을 포함하고 있음"
   ]
  },
  {
   "cell_type": "code",
   "execution_count": 33,
   "metadata": {},
   "outputs": [
    {
     "data": {
      "text/html": [
       "<div>\n",
       "<style scoped>\n",
       "    .dataframe tbody tr th:only-of-type {\n",
       "        vertical-align: middle;\n",
       "    }\n",
       "\n",
       "    .dataframe tbody tr th {\n",
       "        vertical-align: top;\n",
       "    }\n",
       "\n",
       "    .dataframe thead th {\n",
       "        text-align: right;\n",
       "    }\n",
       "</style>\n",
       "<table border=\"1\" class=\"dataframe\">\n",
       "  <thead>\n",
       "    <tr style=\"text-align: right;\">\n",
       "      <th></th>\n",
       "      <th>철수</th>\n",
       "    </tr>\n",
       "    <tr>\n",
       "      <th>영희</th>\n",
       "      <th></th>\n",
       "    </tr>\n",
       "  </thead>\n",
       "  <tbody>\n",
       "    <tr>\n",
       "      <th>143</th>\n",
       "      <td>165</td>\n",
       "    </tr>\n",
       "    <tr>\n",
       "      <th>150</th>\n",
       "      <td>172</td>\n",
       "    </tr>\n",
       "    <tr>\n",
       "      <th>157</th>\n",
       "      <td>1175</td>\n",
       "    </tr>\n",
       "    <tr>\n",
       "      <th>160</th>\n",
       "      <td>180</td>\n",
       "    </tr>\n",
       "  </tbody>\n",
       "</table>\n",
       "</div>"
      ],
      "text/plain": [
       "       철수\n",
       "영희       \n",
       "143   165\n",
       "150   172\n",
       "157  1175\n",
       "160   180"
      ]
     },
     "execution_count": 33,
     "metadata": {},
     "output_type": "execute_result"
    }
   ],
   "source": [
    "growth.set_index(\"영희\") # 영희 column을 인덱스로 써서 출력. 영구적인건 아님"
   ]
  },
  {
   "cell_type": "code",
   "execution_count": 34,
   "metadata": {},
   "outputs": [
    {
     "data": {
      "text/html": [
       "<div>\n",
       "<style scoped>\n",
       "    .dataframe tbody tr th:only-of-type {\n",
       "        vertical-align: middle;\n",
       "    }\n",
       "\n",
       "    .dataframe tbody tr th {\n",
       "        vertical-align: top;\n",
       "    }\n",
       "\n",
       "    .dataframe thead th {\n",
       "        text-align: right;\n",
       "    }\n",
       "</style>\n",
       "<table border=\"1\" class=\"dataframe\">\n",
       "  <thead>\n",
       "    <tr style=\"text-align: right;\">\n",
       "      <th></th>\n",
       "      <th>영희</th>\n",
       "      <th>철수</th>\n",
       "    </tr>\n",
       "  </thead>\n",
       "  <tbody>\n",
       "    <tr>\n",
       "      <th>2020</th>\n",
       "      <td>157</td>\n",
       "      <td>1175</td>\n",
       "    </tr>\n",
       "    <tr>\n",
       "      <th>2021</th>\n",
       "      <td>160</td>\n",
       "      <td>180</td>\n",
       "    </tr>\n",
       "  </tbody>\n",
       "</table>\n",
       "</div>"
      ],
      "text/plain": [
       "       영희    철수\n",
       "2020  157  1175\n",
       "2021  160   180"
      ]
     },
     "execution_count": 34,
     "metadata": {},
     "output_type": "execute_result"
    }
   ],
   "source": [
    "growth.loc[growth.영희 > 150] # 영희가 150 이상일때를 모두 가져오기"
   ]
  },
  {
   "cell_type": "code",
   "execution_count": 3,
   "metadata": {},
   "outputs": [
    {
     "data": {
      "text/html": [
       "<div>\n",
       "<style scoped>\n",
       "    .dataframe tbody tr th:only-of-type {\n",
       "        vertical-align: middle;\n",
       "    }\n",
       "\n",
       "    .dataframe tbody tr th {\n",
       "        vertical-align: top;\n",
       "    }\n",
       "\n",
       "    .dataframe thead th {\n",
       "        text-align: right;\n",
       "    }\n",
       "</style>\n",
       "<table border=\"1\" class=\"dataframe\">\n",
       "  <thead>\n",
       "    <tr style=\"text-align: right;\">\n",
       "      <th></th>\n",
       "      <th>2018</th>\n",
       "      <th>2019</th>\n",
       "      <th>2020</th>\n",
       "    </tr>\n",
       "  </thead>\n",
       "  <tbody>\n",
       "    <tr>\n",
       "      <th>영희</th>\n",
       "      <td>143</td>\n",
       "      <td>150</td>\n",
       "      <td>157</td>\n",
       "    </tr>\n",
       "    <tr>\n",
       "      <th>철수</th>\n",
       "      <td>165</td>\n",
       "      <td>172</td>\n",
       "      <td>175</td>\n",
       "    </tr>\n",
       "    <tr>\n",
       "      <th>영철</th>\n",
       "      <td>157</td>\n",
       "      <td>177</td>\n",
       "      <td>180</td>\n",
       "    </tr>\n",
       "  </tbody>\n",
       "</table>\n",
       "</div>"
      ],
      "text/plain": [
       "    2018  2019  2020\n",
       "영희   143   150   157\n",
       "철수   165   172   175\n",
       "영철   157   177   180"
      ]
     },
     "execution_count": 3,
     "metadata": {},
     "output_type": "execute_result"
    }
   ],
   "source": [
    "index = [\"영희\", \"철수\", \"영철\"]\n",
    "data = {\n",
    "    \"2018\" : [143, 165, 157],\n",
    "    \"2019\" : [150, 172, 177],\n",
    "    \"2020\" : [157,175,180]\n",
    "}\n",
    "\n",
    "growth = pd.DataFrame(data, index = index) # 가로 세로 바꾸는 명령어는 읎고 아예 새로 짤때 index랑 data 바꿔주기\n",
    "growth"
   ]
  },
  {
   "cell_type": "code",
   "execution_count": 39,
   "metadata": {},
   "outputs": [
    {
     "data": {
      "text/plain": [
       "영희    False\n",
       "철수     True\n",
       "영철     True\n",
       "Name: 2018, dtype: bool"
      ]
     },
     "execution_count": 39,
     "metadata": {},
     "output_type": "execute_result"
    }
   ],
   "source": [
    "growth[\"2018\"] > 150 # 2018년도에 철수와 영철은 넘었고 영희는 아니었다"
   ]
  },
  {
   "cell_type": "code",
   "execution_count": 42,
   "metadata": {},
   "outputs": [
    {
     "data": {
      "text/html": [
       "<div>\n",
       "<style scoped>\n",
       "    .dataframe tbody tr th:only-of-type {\n",
       "        vertical-align: middle;\n",
       "    }\n",
       "\n",
       "    .dataframe tbody tr th {\n",
       "        vertical-align: top;\n",
       "    }\n",
       "\n",
       "    .dataframe thead th {\n",
       "        text-align: right;\n",
       "    }\n",
       "</style>\n",
       "<table border=\"1\" class=\"dataframe\">\n",
       "  <thead>\n",
       "    <tr style=\"text-align: right;\">\n",
       "      <th></th>\n",
       "      <th>2018</th>\n",
       "      <th>2019</th>\n",
       "      <th>2020</th>\n",
       "    </tr>\n",
       "  </thead>\n",
       "  <tbody>\n",
       "    <tr>\n",
       "      <th>철수</th>\n",
       "      <td>165</td>\n",
       "      <td>172</td>\n",
       "      <td>175</td>\n",
       "    </tr>\n",
       "    <tr>\n",
       "      <th>영철</th>\n",
       "      <td>157</td>\n",
       "      <td>177</td>\n",
       "      <td>180</td>\n",
       "    </tr>\n",
       "  </tbody>\n",
       "</table>\n",
       "</div>"
      ],
      "text/plain": [
       "    2018  2019  2020\n",
       "철수   165   172   175\n",
       "영철   157   177   180"
      ]
     },
     "execution_count": 42,
     "metadata": {},
     "output_type": "execute_result"
    }
   ],
   "source": [
    "growth.loc[(growth[\"2018\"] > 150) & (growth[\"2020\"] > 150)] # & = and, | = or, isin([list]) = 이중에 있다면, index.notnull = 이 index에 null 값이 없는것만 선택"
   ]
  },
  {
   "cell_type": "code",
   "execution_count": 46,
   "metadata": {},
   "outputs": [
    {
     "data": {
      "text/html": [
       "<div>\n",
       "<style scoped>\n",
       "    .dataframe tbody tr th:only-of-type {\n",
       "        vertical-align: middle;\n",
       "    }\n",
       "\n",
       "    .dataframe tbody tr th {\n",
       "        vertical-align: top;\n",
       "    }\n",
       "\n",
       "    .dataframe thead th {\n",
       "        text-align: right;\n",
       "    }\n",
       "</style>\n",
       "<table border=\"1\" class=\"dataframe\">\n",
       "  <thead>\n",
       "    <tr style=\"text-align: right;\">\n",
       "      <th></th>\n",
       "      <th>2018</th>\n",
       "      <th>2019</th>\n",
       "      <th>2020</th>\n",
       "      <th>2021</th>\n",
       "    </tr>\n",
       "  </thead>\n",
       "  <tbody>\n",
       "    <tr>\n",
       "      <th>영희</th>\n",
       "      <td>143</td>\n",
       "      <td>150</td>\n",
       "      <td>157</td>\n",
       "      <td>140</td>\n",
       "    </tr>\n",
       "    <tr>\n",
       "      <th>철수</th>\n",
       "      <td>165</td>\n",
       "      <td>172</td>\n",
       "      <td>175</td>\n",
       "      <td>140</td>\n",
       "    </tr>\n",
       "    <tr>\n",
       "      <th>영철</th>\n",
       "      <td>157</td>\n",
       "      <td>177</td>\n",
       "      <td>180</td>\n",
       "      <td>140</td>\n",
       "    </tr>\n",
       "  </tbody>\n",
       "</table>\n",
       "</div>"
      ],
      "text/plain": [
       "    2018  2019  2020  2021\n",
       "영희   143   150   157   140\n",
       "철수   165   172   175   140\n",
       "영철   157   177   180   140"
      ]
     },
     "execution_count": 46,
     "metadata": {},
     "output_type": "execute_result"
    }
   ],
   "source": [
    "growth[\"2021\"] = 140 # 2021이라는 column의 각 row들에 140이라는 값을 넣음\n",
    "growth"
   ]
  },
  {
   "cell_type": "code",
   "execution_count": 5,
   "metadata": {},
   "outputs": [
    {
     "name": "stdout",
     "output_type": "stream",
     "text": [
      "철수\n",
      "영희\n"
     ]
    }
   ],
   "source": [
    "#12.17\n",
    "print(growth[\"2018\"].idxmax()) # 2018년도의 숫자가 가장 큰 인덱스\n",
    "print(growth[\"2018\"].idxmin()) # 2018년도의 숫자가 가장 작은 인덱스"
   ]
  },
  {
   "cell_type": "code",
   "execution_count": 12,
   "metadata": {},
   "outputs": [],
   "source": [
    "def check(row):\n",
    "    if row[\"영희\"] > 160 :\n",
    "        return 2\n",
    "    elif row[\"영희\"] > 150 :\n",
    "        return 1\n",
    "    else :\n",
    "        return 0"
   ]
  },
  {
   "cell_type": "code",
   "execution_count": 13,
   "metadata": {},
   "outputs": [
    {
     "data": {
      "text/plain": [
       "2018    0\n",
       "2019    0\n",
       "2020    1\n",
       "dtype: int64"
      ]
     },
     "execution_count": 13,
     "metadata": {},
     "output_type": "execute_result"
    }
   ],
   "source": [
    "growth.apply(check, axis=\"index\") # axis에 index, row, column등 지정 가능\n",
    "#growth.apply(check, axis=\"index\") # axis에 columns를 넣으면 오류발생"
   ]
  },
  {
   "cell_type": "code",
   "execution_count": null,
   "metadata": {},
   "outputs": [],
   "source": [
    "index = [\"영희\", \"철수\", \"영철\", \"순자\"]\n",
    "data {\n",
    "    \"나이\" : [20, 20, 21, 20],\n",
    "    \"지역\" : [\"대구\", \"서울\", \"서울\", \"서울\"],\n",
    "    \"키\" : [175, 157, 180, 165]\n",
    "}"
   ]
  }
 ],
 "metadata": {
  "kernelspec": {
   "display_name": "base",
   "language": "python",
   "name": "python3"
  },
  "language_info": {
   "codemirror_mode": {
    "name": "ipython",
    "version": 3
   },
   "file_extension": ".py",
   "mimetype": "text/x-python",
   "name": "python",
   "nbconvert_exporter": "python",
   "pygments_lexer": "ipython3",
   "version": "3.12.7"
  }
 },
 "nbformat": 4,
 "nbformat_minor": 2
}
